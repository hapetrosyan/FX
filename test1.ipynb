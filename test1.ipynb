{
 "nbformat": 4,
 "nbformat_minor": 2,
 "metadata": {
  "language_info": {
   "name": "python",
   "codemirror_mode": {
    "name": "ipython",
    "version": 3
   },
   "version": "3.7.5"
  },
  "orig_nbformat": 2,
  "file_extension": ".py",
  "mimetype": "text/x-python",
  "name": "python",
  "npconvert_exporter": "python",
  "pygments_lexer": "ipython3",
  "version": 3
 },
 "cells": [
  {
   "cell_type": "code",
   "execution_count": 1,
   "metadata": {},
   "outputs": [],
   "source": [
    "import pandas as pd\n",
    "from libs import indicators as  ind"
   ]
  },
  {
   "cell_type": "code",
   "execution_count": 7,
   "metadata": {},
   "outputs": [],
   "source": [
    "product = {'month' : [1,2,3,4,5,6,7,8,9,10,11,12],'demand':[1,2,3,4,5,303,329,340,316,330,308,310],'demand_1':[290,260,288,300,310,303,329,340,316,330,308,310]}\n",
    "df = pd.DataFrame(product)"
   ]
  },
  {
   "cell_type": "code",
   "execution_count": 8,
   "metadata": {},
   "outputs": [
    {
     "data": {
      "text/html": "<div>\n<style scoped>\n    .dataframe tbody tr th:only-of-type {\n        vertical-align: middle;\n    }\n\n    .dataframe tbody tr th {\n        vertical-align: top;\n    }\n\n    .dataframe thead th {\n        text-align: right;\n    }\n</style>\n<table border=\"1\" class=\"dataframe\">\n  <thead>\n    <tr style=\"text-align: right;\">\n      <th></th>\n      <th>month</th>\n      <th>demand</th>\n      <th>demand_1</th>\n    </tr>\n  </thead>\n  <tbody>\n    <tr>\n      <th>0</th>\n      <td>1</td>\n      <td>1</td>\n      <td>290</td>\n    </tr>\n    <tr>\n      <th>1</th>\n      <td>2</td>\n      <td>2</td>\n      <td>260</td>\n    </tr>\n    <tr>\n      <th>2</th>\n      <td>3</td>\n      <td>3</td>\n      <td>288</td>\n    </tr>\n    <tr>\n      <th>3</th>\n      <td>4</td>\n      <td>4</td>\n      <td>300</td>\n    </tr>\n    <tr>\n      <th>4</th>\n      <td>5</td>\n      <td>5</td>\n      <td>310</td>\n    </tr>\n    <tr>\n      <th>5</th>\n      <td>6</td>\n      <td>303</td>\n      <td>303</td>\n    </tr>\n    <tr>\n      <th>6</th>\n      <td>7</td>\n      <td>329</td>\n      <td>329</td>\n    </tr>\n    <tr>\n      <th>7</th>\n      <td>8</td>\n      <td>340</td>\n      <td>340</td>\n    </tr>\n    <tr>\n      <th>8</th>\n      <td>9</td>\n      <td>316</td>\n      <td>316</td>\n    </tr>\n    <tr>\n      <th>9</th>\n      <td>10</td>\n      <td>330</td>\n      <td>330</td>\n    </tr>\n    <tr>\n      <th>10</th>\n      <td>11</td>\n      <td>308</td>\n      <td>308</td>\n    </tr>\n    <tr>\n      <th>11</th>\n      <td>12</td>\n      <td>310</td>\n      <td>310</td>\n    </tr>\n  </tbody>\n</table>\n</div>",
      "text/plain": "    month  demand  demand_1\n0       1       1       290\n1       2       2       260\n2       3       3       288\n3       4       4       300\n4       5       5       310\n5       6     303       303\n6       7     329       329\n7       8     340       340\n8       9     316       316\n9      10     330       330\n10     11     308       308\n11     12     310       310"
     },
     "execution_count": 8,
     "metadata": {},
     "output_type": "execute_result"
    }
   ],
   "source": [
    "df"
   ]
  },
  {
   "cell_type": "code",
   "execution_count": 9,
   "metadata": {},
   "outputs": [],
   "source": [
    "ind.add_simple_moving_average(df, 3, 'demand_1')"
   ]
  },
  {
   "cell_type": "code",
   "execution_count": 10,
   "metadata": {},
   "outputs": [
    {
     "data": {
      "text/html": "<div>\n<style scoped>\n    .dataframe tbody tr th:only-of-type {\n        vertical-align: middle;\n    }\n\n    .dataframe tbody tr th {\n        vertical-align: top;\n    }\n\n    .dataframe thead th {\n        text-align: right;\n    }\n</style>\n<table border=\"1\" class=\"dataframe\">\n  <thead>\n    <tr style=\"text-align: right;\">\n      <th></th>\n      <th>month</th>\n      <th>demand</th>\n      <th>demand_1</th>\n      <th>SMA_3_D</th>\n    </tr>\n  </thead>\n  <tbody>\n    <tr>\n      <th>0</th>\n      <td>1</td>\n      <td>1</td>\n      <td>290</td>\n      <td>NaN</td>\n    </tr>\n    <tr>\n      <th>1</th>\n      <td>2</td>\n      <td>2</td>\n      <td>260</td>\n      <td>NaN</td>\n    </tr>\n    <tr>\n      <th>2</th>\n      <td>3</td>\n      <td>3</td>\n      <td>288</td>\n      <td>279.333333</td>\n    </tr>\n    <tr>\n      <th>3</th>\n      <td>4</td>\n      <td>4</td>\n      <td>300</td>\n      <td>282.666667</td>\n    </tr>\n    <tr>\n      <th>4</th>\n      <td>5</td>\n      <td>5</td>\n      <td>310</td>\n      <td>299.333333</td>\n    </tr>\n    <tr>\n      <th>5</th>\n      <td>6</td>\n      <td>303</td>\n      <td>303</td>\n      <td>304.333333</td>\n    </tr>\n    <tr>\n      <th>6</th>\n      <td>7</td>\n      <td>329</td>\n      <td>329</td>\n      <td>314.000000</td>\n    </tr>\n    <tr>\n      <th>7</th>\n      <td>8</td>\n      <td>340</td>\n      <td>340</td>\n      <td>324.000000</td>\n    </tr>\n    <tr>\n      <th>8</th>\n      <td>9</td>\n      <td>316</td>\n      <td>316</td>\n      <td>328.333333</td>\n    </tr>\n    <tr>\n      <th>9</th>\n      <td>10</td>\n      <td>330</td>\n      <td>330</td>\n      <td>328.666667</td>\n    </tr>\n    <tr>\n      <th>10</th>\n      <td>11</td>\n      <td>308</td>\n      <td>308</td>\n      <td>318.000000</td>\n    </tr>\n    <tr>\n      <th>11</th>\n      <td>12</td>\n      <td>310</td>\n      <td>310</td>\n      <td>316.000000</td>\n    </tr>\n  </tbody>\n</table>\n</div>",
      "text/plain": "    month  demand  demand_1     SMA_3_D\n0       1       1       290         NaN\n1       2       2       260         NaN\n2       3       3       288  279.333333\n3       4       4       300  282.666667\n4       5       5       310  299.333333\n5       6     303       303  304.333333\n6       7     329       329  314.000000\n7       8     340       340  324.000000\n8       9     316       316  328.333333\n9      10     330       330  328.666667\n10     11     308       308  318.000000\n11     12     310       310  316.000000"
     },
     "execution_count": 10,
     "metadata": {},
     "output_type": "execute_result"
    }
   ],
   "source": [
    "df"
   ]
  },
  {
   "cell_type": "code",
   "execution_count": 20,
   "metadata": {},
   "outputs": [
    {
     "data": {
      "text/plain": "0       1\n1       2\n2       3\n3       4\n4       5\n5     303\n6     329\n7     340\n8     316\n9     330\n10    308\n11    310\nName: demand, dtype: int64"
     },
     "execution_count": 20,
     "metadata": {},
     "output_type": "execute_result"
    }
   ],
   "source": [
    "df.iloc[:,1]"
   ]
  },
  {
   "cell_type": "code",
   "execution_count": 28,
   "metadata": {},
   "outputs": [
    {
     "data": {
      "text/plain": "0       1\n1       2\n2       3\n3       4\n4       5\n5     303\n6     329\n7     340\n8     316\n9     330\n10    308\n11    310\nName: demand, dtype: int64"
     },
     "execution_count": 28,
     "metadata": {},
     "output_type": "execute_result"
    }
   ],
   "source": [
    "df['demand']"
   ]
  },
  {
   "cell_type": "code",
   "execution_count": null,
   "metadata": {},
   "outputs": [],
   "source": []
  }
 ]
}